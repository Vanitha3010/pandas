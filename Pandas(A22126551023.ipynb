{
  "nbformat": 4,
  "nbformat_minor": 0,
  "metadata": {
    "colab": {
      "provenance": []
    },
    "kernelspec": {
      "name": "python3",
      "display_name": "Python 3"
    },
    "language_info": {
      "name": "python"
    }
  },
  "cells": [
    {
      "cell_type": "code",
      "execution_count": 2,
      "metadata": {
        "id": "_3Q5tT7V_8HV"
      },
      "outputs": [],
      "source": [
        "import pandas as pd"
      ]
    },
    {
      "cell_type": "code",
      "source": [
        "# Creating a Series from a list\n",
        "data = [1, 2, 3, 4, 5]\n",
        "series = pd.Series(data)\n",
        "print(\"Series from list:\\n\", series)\n"
      ],
      "metadata": {
        "id": "7fCSHEINATMy"
      },
      "execution_count": null,
      "outputs": []
    },
    {
      "cell_type": "code",
      "source": [
        "# Creating a DataFrame from a dictionary\n",
        "data = {\n",
        "    'Name': ['John', 'Anna', 'Peter', 'Linda'],\n",
        "    'Age': [28, 24, 35, 32]\n",
        "}\n",
        "df = pd.DataFrame(data)\n",
        "print(\"\\nDataFrame from dictionary:\\n\", df)"
      ],
      "metadata": {
        "id": "NzXugOqyLegA"
      },
      "execution_count": null,
      "outputs": []
    },
    {
      "cell_type": "markdown",
      "source": [
        "Operations on Dataframes:"
      ],
      "metadata": {
        "id": "ycAObdW-Lr7Q"
      }
    },
    {
      "cell_type": "markdown",
      "source": [
        "Selecting data:"
      ],
      "metadata": {
        "id": "ad6I2LFbL7Uu"
      }
    },
    {
      "cell_type": "code",
      "source": [
        "ages = df['Age']\n",
        "print(\"\\nSelected column (Age):\\n\", ages)\n",
        "\n",
        "# Selecting multiple columns\n",
        "subset = df[['Name', 'Age']]\n",
        "print(\"\\nSubset of DataFrame:\\n\", subset)"
      ],
      "metadata": {
        "id": "bB7fhM_dLgtB"
      },
      "execution_count": null,
      "outputs": []
    },
    {
      "cell_type": "markdown",
      "source": [
        "Filtering data:"
      ],
      "metadata": {
        "id": "-ZfeF3dNL_jy"
      }
    },
    {
      "cell_type": "code",
      "source": [
        "filtered_df = df[df['Age'] > 30]\n",
        "print(\"\\nFiltered DataFrame (Age > 30):\\n\", filtered_df)"
      ],
      "metadata": {
        "id": "Y5UpesnLMBSB"
      },
      "execution_count": null,
      "outputs": []
    },
    {
      "cell_type": "markdown",
      "source": [
        "Modifying of data:"
      ],
      "metadata": {
        "id": "kWAxXFwEMKGu"
      }
    },
    {
      "cell_type": "code",
      "source": [
        "df.loc[0, 'Age'] = 29  # Update a single value\n",
        "print(\"\\nDataFrame after modifying age of the first entry:\\n\", df)"
      ],
      "metadata": {
        "id": "E05dhaGfMMAR"
      },
      "execution_count": null,
      "outputs": []
    },
    {
      "cell_type": "markdown",
      "source": [
        "2. Data Handling with Pandas"
      ],
      "metadata": {
        "id": "pCHWs81XMPtA"
      }
    },
    {
      "cell_type": "markdown",
      "source": [
        "Handling missing data:"
      ],
      "metadata": {
        "id": "aXfFWEg0MkXP"
      }
    },
    {
      "cell_type": "code",
      "source": [
        "df_with_missing = pd.DataFrame({\n",
        "    'A': [1, 2, None, 4],\n",
        "    'B': [None, 2, 3, 4]\n",
        "})\n"
      ],
      "metadata": {
        "id": "4Ete5A3wMmYb"
      },
      "execution_count": null,
      "outputs": []
    },
    {
      "cell_type": "markdown",
      "source": [
        "Checking missing data"
      ],
      "metadata": {
        "id": "SEASLeLsMs-1"
      }
    },
    {
      "cell_type": "code",
      "source": [
        "print(\"\\nDataFrame with missing values:\\n\", df_with_missing)\n",
        "print(\"\\nChecking for missing data:\\n\", df_with_missing.isnull())"
      ],
      "metadata": {
        "id": "AhWzlrsJMu68"
      },
      "execution_count": null,
      "outputs": []
    },
    {
      "cell_type": "markdown",
      "source": [
        "Filling specific value"
      ],
      "metadata": {
        "id": "KetLXYmMMytZ"
      }
    },
    {
      "cell_type": "code",
      "source": [
        "df_filled = df_with_missing.fillna(0)\n",
        "print(\"\\nDataFrame after filling missing values:\\n\", df_filled)"
      ],
      "metadata": {
        "id": "zUiIwXqsM5Jk"
      },
      "execution_count": null,
      "outputs": []
    },
    {
      "cell_type": "markdown",
      "source": [
        "Conversion of data types:"
      ],
      "metadata": {
        "id": "Rm8p0KqRNAaW"
      }
    },
    {
      "cell_type": "code",
      "source": [
        "df['Age'] = df['Age'].astype(float)\n",
        "print(\"\\nDataFrame with Age converted to float:\\n\", df)"
      ],
      "metadata": {
        "id": "EFaOaxjfNCpe"
      },
      "execution_count": null,
      "outputs": []
    },
    {
      "cell_type": "markdown",
      "source": [
        "3. Data Analysis with Pandas"
      ],
      "metadata": {
        "id": "V9m-UlLNNGWZ"
      }
    },
    {
      "cell_type": "code",
      "source": [
        "summary_stats = df.describe()\n",
        "print(\"\\nSummary statistics of the DataFrame:\\n\", summary_stats)"
      ],
      "metadata": {
        "id": "zsh_8IFwNhxB"
      },
      "execution_count": null,
      "outputs": []
    },
    {
      "cell_type": "markdown",
      "source": [
        "Grouping Data and Applying Aggregate Functions:"
      ],
      "metadata": {
        "id": "16KbeaPKNmg6"
      }
    },
    {
      "cell_type": "code",
      "source": [
        "grouped = df.groupby('Name').agg({'Age': 'mean'})\n",
        "print(\"\\nGrouped data with mean age:\\n\", grouped)"
      ],
      "metadata": {
        "id": "fJWOODpBNnAn"
      },
      "execution_count": null,
      "outputs": []
    },
    {
      "cell_type": "markdown",
      "source": [
        "Merging two dataframes"
      ],
      "metadata": {
        "id": "yAnB2oeqNqSw"
      }
    },
    {
      "cell_type": "code",
      "source": [
        "df1 = pd.DataFrame({'Key': ['A', 'B', 'C'], 'Value': [1, 2, 3]})\n",
        "df2 = pd.DataFrame({'Key': ['A', 'B', 'D'], 'Value': [4, 5, 6]})\n",
        "merged_df = pd.merge(df1, df2, on='Key', how='outer')\n",
        "print(\"\\nMerged DataFrame:\\n\", merged_df)"
      ],
      "metadata": {
        "id": "qioLlGhkNt3L"
      },
      "execution_count": null,
      "outputs": []
    },
    {
      "cell_type": "markdown",
      "source": [
        "Concatenation"
      ],
      "metadata": {
        "id": "M-tD2QO6NwSz"
      }
    },
    {
      "cell_type": "code",
      "source": [
        "concatenated_df = pd.concat([df1, df2], ignore_index=True)\n",
        "print(\"\\nConcatenated DataFrame:\\n\", concatenated_df)"
      ],
      "metadata": {
        "id": "kuk2sopfNyyH"
      },
      "execution_count": null,
      "outputs": []
    },
    {
      "cell_type": "markdown",
      "source": [],
      "metadata": {
        "id": "mTgXnDCMN02y"
      }
    },
    {
      "cell_type": "markdown",
      "source": [
        "4.Application in Data Science"
      ],
      "metadata": {
        "id": "CisWgBUPN7qF"
      }
    },
    {
      "cell_type": "markdown",
      "source": [
        "Advantages of Using Pandas:\n",
        "\n",
        "Efficiency: Pandas is built on top of NumPy and provides high-performance, easy-to-use data structures and data analysis tools.\n",
        "\n",
        "Data Manipulation: It allows quick and easy data manipulation, cleaning, and transformation.\n",
        "\n",
        "Versatility: It supports multiple file formats like CSV, Excel, SQL, and JSON, making it versatile for various data science tasks.\n",
        "\n",
        "Integration: It integrates well with other Python libraries like Matplotlib, Seaborn for visualization, and Scikit-learn for machine learning."
      ],
      "metadata": {
        "id": "KE9umn7LN9US"
      }
    },
    {
      "cell_type": "markdown",
      "source": [
        "Real-World Examples:\n",
        "\n",
        "Data Cleaning: Pandas is often used to clean messy datasets by handling missing values, removing duplicates, and standardizing data formats.\n",
        "\n",
        "Exploratory Data Analysis (EDA): It helps in quickly generating summary statistics, visualizing data distributions, and uncovering patterns in the data.\n",
        "\n",
        "Financial Analysis: Used for time series data analysis and manipulation, which is common in financial datasets."
      ],
      "metadata": {
        "id": "on_sZRglOAY8"
      }
    },
    {
      "cell_type": "markdown",
      "source": [
        "Conclusion"
      ],
      "metadata": {
        "id": "4eL1rwFnOYts"
      }
    },
    {
      "cell_type": "markdown",
      "source": [
        "Using Pandas in data science provides a powerful toolset for data handling and analysis.\n",
        "Its ability to handle large datasets efficiently and its integration with other Python libraries make it indispensable for data science professionals.\n",
        "\n",
        "You can now use these examples and explanations to get hands-on experience with Pandas and understand its crucial role in data science"
      ],
      "metadata": {
        "id": "DbtTXYw0OZzN"
      }
    }
  ]
}